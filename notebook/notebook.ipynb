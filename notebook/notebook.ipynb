{
 "cells": [
  {
   "cell_type": "code",
   "execution_count": 1,
   "metadata": {},
   "outputs": [],
   "source": [
    "import cv2"
   ]
  },
  {
   "cell_type": "code",
   "execution_count": null,
   "metadata": {},
   "outputs": [],
   "source": [
    "vdo=cv2.VideoCapture(0)\n",
    "model=cv2.CascadeClassifier(cv2.data.haarcascades + 'haarcascade_frontalface_default.xml')\n",
    "i=1\n",
    "while True:\n",
    "    reg,img= vdo.read()\n",
    "    if reg==False:\n",
    "        break\n",
    "    cv2.putText(img,'press c for quit',(10,20),cv2.FONT_HERSHEY_PLAIN,2,(255,150,200))\n",
    "    gray=cv2.cvtColor(img,cv2.COLOR_BGR2GRAY)\n",
    "    faces=model.detectMultiScale(gray,scaleFactor=1.2,minNeighbors=5,minSize=(90,90))\n",
    "\n",
    "    for x,y,w,h in faces:\n",
    "        cv2.rectangle(img,(x,y),(x+w,y+h),(255,255),2)\n",
    "        face=img[y:y+h,x:x+w]\n",
    "        cv2.imwrite(f'image2/img{i}.png',face)\n",
    "        i+=1\n",
    "    cv2.imshow('vdo',img)\n",
    "    key=cv2.waitKey(10)\n",
    "    if key==ord('c'):\n",
    "        break\n",
    "\n",
    "cv2.destroyAllWindows()\n",
    "vdo.release()"
   ]
  },
  {
   "cell_type": "code",
   "execution_count": null,
   "metadata": {},
   "outputs": [],
   "source": []
  }
 ],
 "metadata": {
  "kernelspec": {
   "display_name": "Python 3",
   "language": "python",
   "name": "python3"
  },
  "language_info": {
   "codemirror_mode": {
    "name": "ipython",
    "version": 3
   },
   "file_extension": ".py",
   "mimetype": "text/x-python",
   "name": "python",
   "nbconvert_exporter": "python",
   "pygments_lexer": "ipython3",
   "version": "3.11.4"
  }
 },
 "nbformat": 4,
 "nbformat_minor": 2
}
