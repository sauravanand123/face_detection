{
 "cells": [
  {
   "cell_type": "code",
   "execution_count": null,
   "metadata": {},
   "outputs": [],
   "source": [
    "import cv2\n",
    "import os\n",
    "from matplotlib import pyplot as plt\n",
    "import numpy as np\n",
    "from sklearn.linear_model import LogisticRegression"
   ]
  },
  {
   "cell_type": "code",
   "execution_count": null,
   "metadata": {},
   "outputs": [],
   "source": [
    "vdo=cv2.VideoCapture(0)\n",
    "model=cv2.CascadeClassifier(cv2.data.haarcascades + 'haarcascade_frontalface_default.xml')\n",
    "i=1\n",
    "while True:\n",
    "    reg,img= vdo.read()\n",
    "    if reg==False:\n",
    "        break\n",
    "    cv2.putText(img,'press c for quit',(10,20),cv2.FONT_HERSHEY_PLAIN,2,(255,150,200))\n",
    "    gray=cv2.cvtColor(img,cv2.COLOR_BGR2GRAY)\n",
    "    faces=model.detectMultiScale(gray,scaleFactor=1.2,minNeighbors=5,minSize=(90,90))\n",
    "\n",
    "    for x,y,w,h in faces:\n",
    "        cv2.rectangle(img,(x,y),(x+w,y+h),(255,255),2)\n",
    "        face=img[y:y+h,x:x+w]\n",
    "        cv2.imwrite(f'image2/img{i}.png',face)\n",
    "        i+=1\n",
    "    cv2.imshow('vdo',img)\n",
    "    key=cv2.waitKey(25)\n",
    "    if key==ord('c'):\n",
    "        break\n",
    "\n",
    "cv2.destroyAllWindows()\n",
    "vdo.release()"
   ]
  },
  {
   "cell_type": "code",
   "execution_count": null,
   "metadata": {},
   "outputs": [],
   "source": [
    "file=os.listdir(r\"C:\\Users\\anand\\OneDrive\\Desktop\\projects\\project1\\notebook\\image\")\n",
    "x_train=[]\n",
    "y_train=[]\n",
    "for i in file:\n",
    "    img=cv2.imread(f'image/{i}')\n",
    "    if img is None:\n",
    "        print('could not find file')\n",
    "        continue\n",
    "    img=cv2.resize(img,(120,120))\n",
    "    gray=cv2.cvtColor(img,cv2.COLOR_BGR2RGB)\n",
    "    gray=gray/255\n",
    "    sample=gray.flatten()\n",
    "    x_train.append(sample)\n",
    "    y_train.append('saurav beard')\n",
    "\n",
    "file=os.listdir('image2/')\n",
    "for i in file:\n",
    "    img=cv2.imread(f'image2/{i}')\n",
    "    img=cv2.resize(img,(120,120))\n",
    "    gray=cv2.cvtColor(img,cv2.COLOR_BGR2RGB)\n",
    "    gray=gray/255\n",
    "    sample=gray.flatten()\n",
    "    x_train.append(sample)\n",
    "    y_train.append('no beard saurav')\n",
    "\n",
    "\n"
   ]
  },
  {
   "cell_type": "code",
   "execution_count": null,
   "metadata": {},
   "outputs": [],
   "source": [
    "np.shape(x_train)"
   ]
  },
  {
   "cell_type": "code",
   "execution_count": null,
   "metadata": {},
   "outputs": [],
   "source": [
    "modellogistic= LogisticRegression()\n",
    "modellogistic.fit(x_train,y_train)"
   ]
  },
  {
   "cell_type": "code",
   "execution_count": null,
   "metadata": {},
   "outputs": [],
   "source": [
    "x_test=[]\n",
    "img=cv2.imread(f'image/img200.png')\n",
    "img=cv2.resize(img,(120,120))\n",
    "gray=cv2.cvtColor(img,cv2.COLOR_BGR2RGB)\n",
    "gray=gray/255\n",
    "sample=gray.flatten()\n",
    "x_test.append(sample)\n",
    "\n",
    "img=cv2.imread(f'image2/img300.png')\n",
    "img=cv2.resize(img,(120,120))\n",
    "gray=cv2.cvtColor(img,cv2.COLOR_BGR2RGB)\n",
    "gray=gray/255\n",
    "sample=gray.flatten()\n",
    "x_test.append(sample)"
   ]
  },
  {
   "cell_type": "code",
   "execution_count": null,
   "metadata": {},
   "outputs": [],
   "source": [
    "modellogistic.predict(x_test)"
   ]
  },
  {
   "cell_type": "code",
   "execution_count": null,
   "metadata": {},
   "outputs": [],
   "source": [
    "cap=cv2.VideoCapture(0)\n",
    "x_test=[] \n",
    "while True:   \n",
    "    reg, img=cap.read()\n",
    "    if reg==False:\n",
    "        break\n",
    "    img=cv2.resize(img,(120,120))\n",
    "    gray=cv2.cvtColor(img,cv2.COLOR_BGR2RGB)\n",
    "    gray=gray/255\n",
    "    sample=gray.flatten()\n",
    "    x_test.append(sample)\n",
    "    modellogistic.predict(x_test)\n",
    "    key=cv2.waitKey(50)\n",
    "    if key==ord('c'):\n",
    "        break\n",
    "cv2.destroyAllWindows()\n",
    "cap.release()"
   ]
  },
  {
   "cell_type": "code",
   "execution_count": null,
   "metadata": {},
   "outputs": [],
   "source": []
  }
 ],
 "metadata": {
  "kernelspec": {
   "display_name": "Python 3",
   "language": "python",
   "name": "python3"
  },
  "language_info": {
   "codemirror_mode": {
    "name": "ipython",
    "version": 3
   },
   "file_extension": ".py",
   "mimetype": "text/x-python",
   "name": "python",
   "nbconvert_exporter": "python",
   "pygments_lexer": "ipython3",
   "version": "3.11.4"
  }
 },
 "nbformat": 4,
 "nbformat_minor": 2
}
